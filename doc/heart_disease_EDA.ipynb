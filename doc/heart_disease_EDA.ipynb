{
 "cells": [
  {
   "cell_type": "markdown",
   "id": "562a6a0f-89ca-4077-9c97-69878dfd2e2c",
   "metadata": {},
   "source": [
    "# EDA on factors affect Heart Attack probability   \n",
    "**Group 12**  \n",
    "**2022/11/17**\n",
    "\n",
    "In this notebook, we are going to perform a explanatory data analysis to the data we have chosen."
   ]
  },
  {
   "cell_type": "markdown",
   "id": "33b979ad-3756-45c0-a206-3102aa080149",
   "metadata": {},
   "source": [
    "$\\bullet$ [Link](#Link)  \n",
    "$\\bullet$ [Summary](#Summary)  \n",
    "$\\bullet$ [Introduction](#Introduction)  \n",
    "$\\bullet$ [Data](#Data)  \n",
    "$\\bullet$ [Methods](#Methods)  \n",
    "$\\bullet$ [Results](#Results)  \n",
    "$\\bullet$ [Reference](#Reference)  "
   ]
  },
  {
   "cell_type": "markdown",
   "id": "cb929bfb-e4b8-4950-abfc-e00a5fd57576",
   "metadata": {},
   "source": [
    "### Link"
   ]
  },
  {
   "cell_type": "markdown",
   "id": "89844cef-ba85-4c34-ac08-918b046da58c",
   "metadata": {},
   "source": [
    "https://github.com/UBC-MDS/group12"
   ]
  },
  {
   "cell_type": "markdown",
   "id": "581eb633-2e1a-4247-90c1-5ddf8b41abeb",
   "metadata": {},
   "source": [
    "## Summary"
   ]
  },
  {
   "cell_type": "markdown",
   "id": "9b0d9645-f5fc-44b2-8147-7b92bc7927dc",
   "metadata": {},
   "source": [
    "From the 5 numeric variables and 8 categorical variables in the data, we want to make sure which factor is correlated to the probability of heart attack, which is the target column in the data. By making the correlation table of the variables, we pick the ST depression induced by exercise relative to rest(oldpeak) and maximum heart rate achieved(thalach) as the two factors we are interested."
   ]
  },
  {
   "cell_type": "markdown",
   "id": "fc01b3a4-a59b-4f1b-bd4c-8ef7fe714b54",
   "metadata": {},
   "source": [
    "## Introduction  \n",
    "Nowadays, heart disease is one of the leading cause of death for people all around the world. In 2019, about 660,000 people in the U.S. die from heart disease(Center for Disease Control and Prevention 2019). Meanwhile, 805,000 people in the U.S. have a heart attack. Note that heart disease is highly related to the probability of heart attack since heart's rhythm and its ability to pump blood to the rest of the body will be influenced after the heart attack, it is beneficial to find the factors that are correlated to increase the heart attack probability.  \n",
    "Here, we use the explanatory data analysis to take a look at both the numeric and categorical variables which is probably related to the probability of heart attack. It is important since we cannot waste time in making hypothesis testing or prediction on every variable, especially those with nearly zero impact on the probability.  "
   ]
  },
  {
   "cell_type": "markdown",
   "id": "8aa5d39b-3361-4f8d-b252-7238137e7a47",
   "metadata": {},
   "source": [
    "## Data"
   ]
  },
  {
   "cell_type": "code",
   "execution_count": 1,
   "id": "d5a4dcee-0430-42c4-84f3-88778c74aa0d",
   "metadata": {},
   "outputs": [],
   "source": [
    "# Imports\n",
    "import matplotlib.pyplot as plt\n",
    "import numpy as np\n",
    "import altair as alt\n",
    "import pandas as pd\n",
    "# Handle large data sets without embedding them in the notebook\n",
    "alt.data_transformers.enable('data_server')\n",
    "# Include an image for each plot since Gradescope only supports displaying plots as images\n",
    "alt.renderers.enable('mimetype')\n",
    "data=pd.read_csv(\"../data/raw/processed.cleveland.csv\",\n",
    "                names=[\"age\",\"sex\",\"cp\",\"trestbps\",\"chol\",\"fbs\",\"restecg\",\"thalach\",\"exang\",\"oldpeak\",\"slope\",\"ca\",\"thal\",\"target\"],skiprows=1)\n",
    "data.loc[(data.target != 0),'target']=1\n",
    "data.loc[(data.ca == \"?\"),'ca']=np.nan\n",
    "data.loc[(data.thal == \"?\"),'thal']=np.nan\n",
    "data.dropna()\n",
    "data['ca'] = data['ca'].astype(float)\n",
    "data['thal'] = data['thal'].astype(float)"
   ]
  },
  {
   "cell_type": "code",
   "execution_count": 10,
   "id": "add5023f-2337-4e61-af1a-98652e7a6086",
   "metadata": {},
   "outputs": [
    {
     "data": {
      "text/html": [
       "<div>\n",
       "<style scoped>\n",
       "    .dataframe tbody tr th:only-of-type {\n",
       "        vertical-align: middle;\n",
       "    }\n",
       "\n",
       "    .dataframe tbody tr th {\n",
       "        vertical-align: top;\n",
       "    }\n",
       "\n",
       "    .dataframe thead th {\n",
       "        text-align: right;\n",
       "    }\n",
       "</style>\n",
       "<table border=\"1\" class=\"dataframe\">\n",
       "  <thead>\n",
       "    <tr style=\"text-align: right;\">\n",
       "      <th></th>\n",
       "      <th>age</th>\n",
       "      <th>sex</th>\n",
       "      <th>cp</th>\n",
       "      <th>trestbps</th>\n",
       "      <th>chol</th>\n",
       "      <th>fbs</th>\n",
       "      <th>restecg</th>\n",
       "      <th>thalach</th>\n",
       "      <th>exang</th>\n",
       "      <th>oldpeak</th>\n",
       "      <th>slope</th>\n",
       "      <th>ca</th>\n",
       "      <th>thal</th>\n",
       "      <th>target</th>\n",
       "    </tr>\n",
       "  </thead>\n",
       "  <tbody>\n",
       "    <tr>\n",
       "      <th>0</th>\n",
       "      <td>63.0</td>\n",
       "      <td>1.0</td>\n",
       "      <td>1.0</td>\n",
       "      <td>145.0</td>\n",
       "      <td>233.0</td>\n",
       "      <td>1.0</td>\n",
       "      <td>2.0</td>\n",
       "      <td>150.0</td>\n",
       "      <td>0.0</td>\n",
       "      <td>2.3</td>\n",
       "      <td>3.0</td>\n",
       "      <td>0.0</td>\n",
       "      <td>6.0</td>\n",
       "      <td>0</td>\n",
       "    </tr>\n",
       "    <tr>\n",
       "      <th>1</th>\n",
       "      <td>67.0</td>\n",
       "      <td>1.0</td>\n",
       "      <td>4.0</td>\n",
       "      <td>160.0</td>\n",
       "      <td>286.0</td>\n",
       "      <td>0.0</td>\n",
       "      <td>2.0</td>\n",
       "      <td>108.0</td>\n",
       "      <td>1.0</td>\n",
       "      <td>1.5</td>\n",
       "      <td>2.0</td>\n",
       "      <td>3.0</td>\n",
       "      <td>3.0</td>\n",
       "      <td>1</td>\n",
       "    </tr>\n",
       "    <tr>\n",
       "      <th>2</th>\n",
       "      <td>67.0</td>\n",
       "      <td>1.0</td>\n",
       "      <td>4.0</td>\n",
       "      <td>120.0</td>\n",
       "      <td>229.0</td>\n",
       "      <td>0.0</td>\n",
       "      <td>2.0</td>\n",
       "      <td>129.0</td>\n",
       "      <td>1.0</td>\n",
       "      <td>2.6</td>\n",
       "      <td>2.0</td>\n",
       "      <td>2.0</td>\n",
       "      <td>7.0</td>\n",
       "      <td>1</td>\n",
       "    </tr>\n",
       "    <tr>\n",
       "      <th>3</th>\n",
       "      <td>37.0</td>\n",
       "      <td>1.0</td>\n",
       "      <td>3.0</td>\n",
       "      <td>130.0</td>\n",
       "      <td>250.0</td>\n",
       "      <td>0.0</td>\n",
       "      <td>0.0</td>\n",
       "      <td>187.0</td>\n",
       "      <td>0.0</td>\n",
       "      <td>3.5</td>\n",
       "      <td>3.0</td>\n",
       "      <td>0.0</td>\n",
       "      <td>3.0</td>\n",
       "      <td>0</td>\n",
       "    </tr>\n",
       "    <tr>\n",
       "      <th>4</th>\n",
       "      <td>41.0</td>\n",
       "      <td>0.0</td>\n",
       "      <td>2.0</td>\n",
       "      <td>130.0</td>\n",
       "      <td>204.0</td>\n",
       "      <td>0.0</td>\n",
       "      <td>2.0</td>\n",
       "      <td>172.0</td>\n",
       "      <td>0.0</td>\n",
       "      <td>1.4</td>\n",
       "      <td>1.0</td>\n",
       "      <td>0.0</td>\n",
       "      <td>3.0</td>\n",
       "      <td>0</td>\n",
       "    </tr>\n",
       "  </tbody>\n",
       "</table>\n",
       "</div>"
      ],
      "text/plain": [
       "    age  sex   cp  trestbps   chol  fbs  restecg  thalach  exang  oldpeak  \\\n",
       "0  63.0  1.0  1.0     145.0  233.0  1.0      2.0    150.0    0.0      2.3   \n",
       "1  67.0  1.0  4.0     160.0  286.0  0.0      2.0    108.0    1.0      1.5   \n",
       "2  67.0  1.0  4.0     120.0  229.0  0.0      2.0    129.0    1.0      2.6   \n",
       "3  37.0  1.0  3.0     130.0  250.0  0.0      0.0    187.0    0.0      3.5   \n",
       "4  41.0  0.0  2.0     130.0  204.0  0.0      2.0    172.0    0.0      1.4   \n",
       "\n",
       "   slope   ca  thal  target  \n",
       "0    3.0  0.0   6.0       0  \n",
       "1    2.0  3.0   3.0       1  \n",
       "2    2.0  2.0   7.0       1  \n",
       "3    3.0  0.0   3.0       0  \n",
       "4    1.0  0.0   3.0       0  "
      ]
     },
     "execution_count": 10,
     "metadata": {},
     "output_type": "execute_result"
    }
   ],
   "source": [
    "data.head()"
   ]
  },
  {
   "cell_type": "code",
   "execution_count": 2,
   "id": "8a05a558-8ce9-47c4-a19a-ff69ab7ac0d1",
   "metadata": {},
   "outputs": [
    {
     "name": "stdout",
     "output_type": "stream",
     "text": [
      "<class 'pandas.core.frame.DataFrame'>\n",
      "RangeIndex: 303 entries, 0 to 302\n",
      "Data columns (total 14 columns):\n",
      " #   Column    Non-Null Count  Dtype  \n",
      "---  ------    --------------  -----  \n",
      " 0   age       303 non-null    float64\n",
      " 1   sex       303 non-null    float64\n",
      " 2   cp        303 non-null    float64\n",
      " 3   trestbps  303 non-null    float64\n",
      " 4   chol      303 non-null    float64\n",
      " 5   fbs       303 non-null    float64\n",
      " 6   restecg   303 non-null    float64\n",
      " 7   thalach   303 non-null    float64\n",
      " 8   exang     303 non-null    float64\n",
      " 9   oldpeak   303 non-null    float64\n",
      " 10  slope     303 non-null    float64\n",
      " 11  ca        299 non-null    float64\n",
      " 12  thal      301 non-null    float64\n",
      " 13  target    303 non-null    int64  \n",
      "dtypes: float64(13), int64(1)\n",
      "memory usage: 33.3 KB\n"
     ]
    }
   ],
   "source": [
    "data.info()"
   ]
  },
  {
   "cell_type": "markdown",
   "id": "666d2065-9b5c-4635-83d8-9ccd642ad520",
   "metadata": {},
   "source": [
    "## Methods  \n",
    "At the very beginning, it is beneficial for us to look at the information of each factor in a table. Then, We take a look at the correlation table of each numeric factor to the target and then choose our numeric factors with relatively high absolute value of correlation. By plotting the histogram of the two factors, we find them have enough counts on every values, which helps us to do hypothesis test or making prediction.  \n",
    "Then, we can use graphical method to analyze the factor to find whether it is related to the probability of heart attack. From all the plots, we can prove that the two factors we select indeed make a great influence on the heart attack probability and we plot them below.  "
   ]
  },
  {
   "cell_type": "code",
   "execution_count": 3,
   "id": "b0ed9114-9afb-418f-9d36-07b094b8d7ad",
   "metadata": {},
   "outputs": [
    {
     "data": {
      "text/html": [
       "<div>\n",
       "<style scoped>\n",
       "    .dataframe tbody tr th:only-of-type {\n",
       "        vertical-align: middle;\n",
       "    }\n",
       "\n",
       "    .dataframe tbody tr th {\n",
       "        vertical-align: top;\n",
       "    }\n",
       "\n",
       "    .dataframe thead th {\n",
       "        text-align: right;\n",
       "    }\n",
       "</style>\n",
       "<table border=\"1\" class=\"dataframe\">\n",
       "  <thead>\n",
       "    <tr style=\"text-align: right;\">\n",
       "      <th></th>\n",
       "      <th>age</th>\n",
       "      <th>sex</th>\n",
       "      <th>cp</th>\n",
       "      <th>trestbps</th>\n",
       "      <th>chol</th>\n",
       "      <th>fbs</th>\n",
       "      <th>restecg</th>\n",
       "      <th>thalach</th>\n",
       "      <th>exang</th>\n",
       "      <th>oldpeak</th>\n",
       "      <th>slope</th>\n",
       "      <th>ca</th>\n",
       "      <th>thal</th>\n",
       "      <th>target</th>\n",
       "    </tr>\n",
       "  </thead>\n",
       "  <tbody>\n",
       "    <tr>\n",
       "      <th>count</th>\n",
       "      <td>164.000000</td>\n",
       "      <td>164.000000</td>\n",
       "      <td>164.000000</td>\n",
       "      <td>164.000000</td>\n",
       "      <td>164.000000</td>\n",
       "      <td>164.000000</td>\n",
       "      <td>164.000000</td>\n",
       "      <td>164.000000</td>\n",
       "      <td>164.000000</td>\n",
       "      <td>164.000000</td>\n",
       "      <td>164.000000</td>\n",
       "      <td>161.000000</td>\n",
       "      <td>163.000000</td>\n",
       "      <td>164.0</td>\n",
       "    </tr>\n",
       "    <tr>\n",
       "      <th>mean</th>\n",
       "      <td>52.585366</td>\n",
       "      <td>0.560976</td>\n",
       "      <td>2.792683</td>\n",
       "      <td>129.250000</td>\n",
       "      <td>242.640244</td>\n",
       "      <td>0.140244</td>\n",
       "      <td>0.835366</td>\n",
       "      <td>158.378049</td>\n",
       "      <td>0.140244</td>\n",
       "      <td>0.586585</td>\n",
       "      <td>1.408537</td>\n",
       "      <td>0.273292</td>\n",
       "      <td>3.797546</td>\n",
       "      <td>0.0</td>\n",
       "    </tr>\n",
       "    <tr>\n",
       "      <th>std</th>\n",
       "      <td>9.511957</td>\n",
       "      <td>0.497788</td>\n",
       "      <td>0.916620</td>\n",
       "      <td>16.204739</td>\n",
       "      <td>53.456580</td>\n",
       "      <td>0.348303</td>\n",
       "      <td>0.986270</td>\n",
       "      <td>19.199080</td>\n",
       "      <td>0.348303</td>\n",
       "      <td>0.781734</td>\n",
       "      <td>0.594598</td>\n",
       "      <td>0.632333</td>\n",
       "      <td>1.568043</td>\n",
       "      <td>0.0</td>\n",
       "    </tr>\n",
       "    <tr>\n",
       "      <th>min</th>\n",
       "      <td>29.000000</td>\n",
       "      <td>0.000000</td>\n",
       "      <td>1.000000</td>\n",
       "      <td>94.000000</td>\n",
       "      <td>126.000000</td>\n",
       "      <td>0.000000</td>\n",
       "      <td>0.000000</td>\n",
       "      <td>96.000000</td>\n",
       "      <td>0.000000</td>\n",
       "      <td>0.000000</td>\n",
       "      <td>1.000000</td>\n",
       "      <td>0.000000</td>\n",
       "      <td>3.000000</td>\n",
       "      <td>0.0</td>\n",
       "    </tr>\n",
       "    <tr>\n",
       "      <th>25%</th>\n",
       "      <td>44.750000</td>\n",
       "      <td>0.000000</td>\n",
       "      <td>2.000000</td>\n",
       "      <td>120.000000</td>\n",
       "      <td>208.750000</td>\n",
       "      <td>0.000000</td>\n",
       "      <td>0.000000</td>\n",
       "      <td>148.750000</td>\n",
       "      <td>0.000000</td>\n",
       "      <td>0.000000</td>\n",
       "      <td>1.000000</td>\n",
       "      <td>0.000000</td>\n",
       "      <td>3.000000</td>\n",
       "      <td>0.0</td>\n",
       "    </tr>\n",
       "    <tr>\n",
       "      <th>50%</th>\n",
       "      <td>52.000000</td>\n",
       "      <td>1.000000</td>\n",
       "      <td>3.000000</td>\n",
       "      <td>130.000000</td>\n",
       "      <td>234.500000</td>\n",
       "      <td>0.000000</td>\n",
       "      <td>0.000000</td>\n",
       "      <td>161.000000</td>\n",
       "      <td>0.000000</td>\n",
       "      <td>0.200000</td>\n",
       "      <td>1.000000</td>\n",
       "      <td>0.000000</td>\n",
       "      <td>3.000000</td>\n",
       "      <td>0.0</td>\n",
       "    </tr>\n",
       "    <tr>\n",
       "      <th>75%</th>\n",
       "      <td>59.000000</td>\n",
       "      <td>1.000000</td>\n",
       "      <td>3.000000</td>\n",
       "      <td>140.000000</td>\n",
       "      <td>267.250000</td>\n",
       "      <td>0.000000</td>\n",
       "      <td>2.000000</td>\n",
       "      <td>172.000000</td>\n",
       "      <td>0.000000</td>\n",
       "      <td>1.025000</td>\n",
       "      <td>2.000000</td>\n",
       "      <td>0.000000</td>\n",
       "      <td>3.000000</td>\n",
       "      <td>0.0</td>\n",
       "    </tr>\n",
       "    <tr>\n",
       "      <th>max</th>\n",
       "      <td>76.000000</td>\n",
       "      <td>1.000000</td>\n",
       "      <td>4.000000</td>\n",
       "      <td>180.000000</td>\n",
       "      <td>564.000000</td>\n",
       "      <td>1.000000</td>\n",
       "      <td>2.000000</td>\n",
       "      <td>202.000000</td>\n",
       "      <td>1.000000</td>\n",
       "      <td>4.200000</td>\n",
       "      <td>3.000000</td>\n",
       "      <td>3.000000</td>\n",
       "      <td>7.000000</td>\n",
       "      <td>0.0</td>\n",
       "    </tr>\n",
       "  </tbody>\n",
       "</table>\n",
       "</div>"
      ],
      "text/plain": [
       "              age         sex          cp    trestbps        chol         fbs  \\\n",
       "count  164.000000  164.000000  164.000000  164.000000  164.000000  164.000000   \n",
       "mean    52.585366    0.560976    2.792683  129.250000  242.640244    0.140244   \n",
       "std      9.511957    0.497788    0.916620   16.204739   53.456580    0.348303   \n",
       "min     29.000000    0.000000    1.000000   94.000000  126.000000    0.000000   \n",
       "25%     44.750000    0.000000    2.000000  120.000000  208.750000    0.000000   \n",
       "50%     52.000000    1.000000    3.000000  130.000000  234.500000    0.000000   \n",
       "75%     59.000000    1.000000    3.000000  140.000000  267.250000    0.000000   \n",
       "max     76.000000    1.000000    4.000000  180.000000  564.000000    1.000000   \n",
       "\n",
       "          restecg     thalach       exang     oldpeak       slope          ca  \\\n",
       "count  164.000000  164.000000  164.000000  164.000000  164.000000  161.000000   \n",
       "mean     0.835366  158.378049    0.140244    0.586585    1.408537    0.273292   \n",
       "std      0.986270   19.199080    0.348303    0.781734    0.594598    0.632333   \n",
       "min      0.000000   96.000000    0.000000    0.000000    1.000000    0.000000   \n",
       "25%      0.000000  148.750000    0.000000    0.000000    1.000000    0.000000   \n",
       "50%      0.000000  161.000000    0.000000    0.200000    1.000000    0.000000   \n",
       "75%      2.000000  172.000000    0.000000    1.025000    2.000000    0.000000   \n",
       "max      2.000000  202.000000    1.000000    4.200000    3.000000    3.000000   \n",
       "\n",
       "             thal  target  \n",
       "count  163.000000   164.0  \n",
       "mean     3.797546     0.0  \n",
       "std      1.568043     0.0  \n",
       "min      3.000000     0.0  \n",
       "25%      3.000000     0.0  \n",
       "50%      3.000000     0.0  \n",
       "75%      3.000000     0.0  \n",
       "max      7.000000     0.0  "
      ]
     },
     "execution_count": 3,
     "metadata": {},
     "output_type": "execute_result"
    }
   ],
   "source": [
    "data.query(\"target==0\").describe()"
   ]
  },
  {
   "cell_type": "code",
   "execution_count": 4,
   "id": "596a767c-b0ab-4e7c-841e-6e43facb598f",
   "metadata": {},
   "outputs": [
    {
     "data": {
      "text/html": [
       "<div>\n",
       "<style scoped>\n",
       "    .dataframe tbody tr th:only-of-type {\n",
       "        vertical-align: middle;\n",
       "    }\n",
       "\n",
       "    .dataframe tbody tr th {\n",
       "        vertical-align: top;\n",
       "    }\n",
       "\n",
       "    .dataframe thead th {\n",
       "        text-align: right;\n",
       "    }\n",
       "</style>\n",
       "<table border=\"1\" class=\"dataframe\">\n",
       "  <thead>\n",
       "    <tr style=\"text-align: right;\">\n",
       "      <th></th>\n",
       "      <th>age</th>\n",
       "      <th>sex</th>\n",
       "      <th>cp</th>\n",
       "      <th>trestbps</th>\n",
       "      <th>chol</th>\n",
       "      <th>fbs</th>\n",
       "      <th>restecg</th>\n",
       "      <th>thalach</th>\n",
       "      <th>exang</th>\n",
       "      <th>oldpeak</th>\n",
       "      <th>slope</th>\n",
       "      <th>ca</th>\n",
       "      <th>thal</th>\n",
       "      <th>target</th>\n",
       "    </tr>\n",
       "  </thead>\n",
       "  <tbody>\n",
       "    <tr>\n",
       "      <th>count</th>\n",
       "      <td>139.000000</td>\n",
       "      <td>139.000000</td>\n",
       "      <td>139.000000</td>\n",
       "      <td>139.000000</td>\n",
       "      <td>139.000000</td>\n",
       "      <td>139.000000</td>\n",
       "      <td>139.000000</td>\n",
       "      <td>139.000000</td>\n",
       "      <td>139.000000</td>\n",
       "      <td>139.000000</td>\n",
       "      <td>139.000000</td>\n",
       "      <td>138.000000</td>\n",
       "      <td>138.000000</td>\n",
       "      <td>139.0</td>\n",
       "    </tr>\n",
       "    <tr>\n",
       "      <th>mean</th>\n",
       "      <td>56.625899</td>\n",
       "      <td>0.820144</td>\n",
       "      <td>3.589928</td>\n",
       "      <td>134.568345</td>\n",
       "      <td>251.474820</td>\n",
       "      <td>0.158273</td>\n",
       "      <td>1.172662</td>\n",
       "      <td>139.258993</td>\n",
       "      <td>0.546763</td>\n",
       "      <td>1.574101</td>\n",
       "      <td>1.827338</td>\n",
       "      <td>1.137681</td>\n",
       "      <td>5.840580</td>\n",
       "      <td>1.0</td>\n",
       "    </tr>\n",
       "    <tr>\n",
       "      <th>std</th>\n",
       "      <td>7.938416</td>\n",
       "      <td>0.385457</td>\n",
       "      <td>0.823680</td>\n",
       "      <td>18.769019</td>\n",
       "      <td>49.486835</td>\n",
       "      <td>0.366317</td>\n",
       "      <td>0.977486</td>\n",
       "      <td>22.593233</td>\n",
       "      <td>0.499609</td>\n",
       "      <td>1.302580</td>\n",
       "      <td>0.563736</td>\n",
       "      <td>1.019460</td>\n",
       "      <td>1.747768</td>\n",
       "      <td>0.0</td>\n",
       "    </tr>\n",
       "    <tr>\n",
       "      <th>min</th>\n",
       "      <td>35.000000</td>\n",
       "      <td>0.000000</td>\n",
       "      <td>1.000000</td>\n",
       "      <td>100.000000</td>\n",
       "      <td>131.000000</td>\n",
       "      <td>0.000000</td>\n",
       "      <td>0.000000</td>\n",
       "      <td>71.000000</td>\n",
       "      <td>0.000000</td>\n",
       "      <td>0.000000</td>\n",
       "      <td>1.000000</td>\n",
       "      <td>0.000000</td>\n",
       "      <td>3.000000</td>\n",
       "      <td>1.0</td>\n",
       "    </tr>\n",
       "    <tr>\n",
       "      <th>25%</th>\n",
       "      <td>52.000000</td>\n",
       "      <td>1.000000</td>\n",
       "      <td>4.000000</td>\n",
       "      <td>120.000000</td>\n",
       "      <td>217.500000</td>\n",
       "      <td>0.000000</td>\n",
       "      <td>0.000000</td>\n",
       "      <td>125.000000</td>\n",
       "      <td>0.000000</td>\n",
       "      <td>0.550000</td>\n",
       "      <td>1.000000</td>\n",
       "      <td>0.000000</td>\n",
       "      <td>3.000000</td>\n",
       "      <td>1.0</td>\n",
       "    </tr>\n",
       "    <tr>\n",
       "      <th>50%</th>\n",
       "      <td>58.000000</td>\n",
       "      <td>1.000000</td>\n",
       "      <td>4.000000</td>\n",
       "      <td>130.000000</td>\n",
       "      <td>249.000000</td>\n",
       "      <td>0.000000</td>\n",
       "      <td>2.000000</td>\n",
       "      <td>142.000000</td>\n",
       "      <td>1.000000</td>\n",
       "      <td>1.400000</td>\n",
       "      <td>2.000000</td>\n",
       "      <td>1.000000</td>\n",
       "      <td>7.000000</td>\n",
       "      <td>1.0</td>\n",
       "    </tr>\n",
       "    <tr>\n",
       "      <th>75%</th>\n",
       "      <td>62.000000</td>\n",
       "      <td>1.000000</td>\n",
       "      <td>4.000000</td>\n",
       "      <td>145.000000</td>\n",
       "      <td>283.500000</td>\n",
       "      <td>0.000000</td>\n",
       "      <td>2.000000</td>\n",
       "      <td>156.500000</td>\n",
       "      <td>1.000000</td>\n",
       "      <td>2.500000</td>\n",
       "      <td>2.000000</td>\n",
       "      <td>2.000000</td>\n",
       "      <td>7.000000</td>\n",
       "      <td>1.0</td>\n",
       "    </tr>\n",
       "    <tr>\n",
       "      <th>max</th>\n",
       "      <td>77.000000</td>\n",
       "      <td>1.000000</td>\n",
       "      <td>4.000000</td>\n",
       "      <td>200.000000</td>\n",
       "      <td>409.000000</td>\n",
       "      <td>1.000000</td>\n",
       "      <td>2.000000</td>\n",
       "      <td>195.000000</td>\n",
       "      <td>1.000000</td>\n",
       "      <td>6.200000</td>\n",
       "      <td>3.000000</td>\n",
       "      <td>3.000000</td>\n",
       "      <td>7.000000</td>\n",
       "      <td>1.0</td>\n",
       "    </tr>\n",
       "  </tbody>\n",
       "</table>\n",
       "</div>"
      ],
      "text/plain": [
       "              age         sex          cp    trestbps        chol         fbs  \\\n",
       "count  139.000000  139.000000  139.000000  139.000000  139.000000  139.000000   \n",
       "mean    56.625899    0.820144    3.589928  134.568345  251.474820    0.158273   \n",
       "std      7.938416    0.385457    0.823680   18.769019   49.486835    0.366317   \n",
       "min     35.000000    0.000000    1.000000  100.000000  131.000000    0.000000   \n",
       "25%     52.000000    1.000000    4.000000  120.000000  217.500000    0.000000   \n",
       "50%     58.000000    1.000000    4.000000  130.000000  249.000000    0.000000   \n",
       "75%     62.000000    1.000000    4.000000  145.000000  283.500000    0.000000   \n",
       "max     77.000000    1.000000    4.000000  200.000000  409.000000    1.000000   \n",
       "\n",
       "          restecg     thalach       exang     oldpeak       slope          ca  \\\n",
       "count  139.000000  139.000000  139.000000  139.000000  139.000000  138.000000   \n",
       "mean     1.172662  139.258993    0.546763    1.574101    1.827338    1.137681   \n",
       "std      0.977486   22.593233    0.499609    1.302580    0.563736    1.019460   \n",
       "min      0.000000   71.000000    0.000000    0.000000    1.000000    0.000000   \n",
       "25%      0.000000  125.000000    0.000000    0.550000    1.000000    0.000000   \n",
       "50%      2.000000  142.000000    1.000000    1.400000    2.000000    1.000000   \n",
       "75%      2.000000  156.500000    1.000000    2.500000    2.000000    2.000000   \n",
       "max      2.000000  195.000000    1.000000    6.200000    3.000000    3.000000   \n",
       "\n",
       "             thal  target  \n",
       "count  138.000000   139.0  \n",
       "mean     5.840580     1.0  \n",
       "std      1.747768     0.0  \n",
       "min      3.000000     1.0  \n",
       "25%      3.000000     1.0  \n",
       "50%      7.000000     1.0  \n",
       "75%      7.000000     1.0  \n",
       "max      7.000000     1.0  "
      ]
     },
     "execution_count": 4,
     "metadata": {},
     "output_type": "execute_result"
    }
   ],
   "source": [
    "data.query(\"target==1\").describe()"
   ]
  },
  {
   "cell_type": "code",
   "execution_count": 5,
   "id": "0f9895d8-a8cf-466f-913d-ad62bcd28fd0",
   "metadata": {},
   "outputs": [
    {
     "data": {
      "text/html": [
       "<style type=\"text/css\">\n",
       "#T_a9bed_row0_col0, #T_a9bed_row1_col1, #T_a9bed_row2_col2, #T_a9bed_row3_col3, #T_a9bed_row4_col4, #T_a9bed_row5_col5 {\n",
       "  background-color: #023858;\n",
       "  color: #f1f1f1;\n",
       "}\n",
       "#T_a9bed_row0_col1 {\n",
       "  background-color: #bbc7e0;\n",
       "  color: #000000;\n",
       "}\n",
       "#T_a9bed_row0_col2 {\n",
       "  background-color: #d9d8ea;\n",
       "  color: #000000;\n",
       "}\n",
       "#T_a9bed_row0_col3 {\n",
       "  background-color: #fdf5fa;\n",
       "  color: #000000;\n",
       "}\n",
       "#T_a9bed_row0_col4 {\n",
       "  background-color: #99b8d8;\n",
       "  color: #000000;\n",
       "}\n",
       "#T_a9bed_row0_col5 {\n",
       "  background-color: #88b1d4;\n",
       "  color: #000000;\n",
       "}\n",
       "#T_a9bed_row1_col0 {\n",
       "  background-color: #79abd0;\n",
       "  color: #f1f1f1;\n",
       "}\n",
       "#T_a9bed_row1_col2 {\n",
       "  background-color: #eae6f1;\n",
       "  color: #000000;\n",
       "}\n",
       "#T_a9bed_row1_col3 {\n",
       "  background-color: #cccfe5;\n",
       "  color: #000000;\n",
       "}\n",
       "#T_a9bed_row1_col4 {\n",
       "  background-color: #9ebad9;\n",
       "  color: #000000;\n",
       "}\n",
       "#T_a9bed_row1_col5 {\n",
       "  background-color: #9cb9d9;\n",
       "  color: #000000;\n",
       "}\n",
       "#T_a9bed_row2_col0 {\n",
       "  background-color: #8fb4d6;\n",
       "  color: #000000;\n",
       "}\n",
       "#T_a9bed_row2_col1 {\n",
       "  background-color: #e3e0ee;\n",
       "  color: #000000;\n",
       "}\n",
       "#T_a9bed_row2_col3, #T_a9bed_row2_col4 {\n",
       "  background-color: #c2cbe2;\n",
       "  color: #000000;\n",
       "}\n",
       "#T_a9bed_row2_col5 {\n",
       "  background-color: #adc1dd;\n",
       "  color: #000000;\n",
       "}\n",
       "#T_a9bed_row3_col0, #T_a9bed_row3_col1, #T_a9bed_row3_col2, #T_a9bed_row3_col4, #T_a9bed_row3_col5, #T_a9bed_row5_col3 {\n",
       "  background-color: #fff7fb;\n",
       "  color: #000000;\n",
       "}\n",
       "#T_a9bed_row4_col0 {\n",
       "  background-color: #91b5d6;\n",
       "  color: #000000;\n",
       "}\n",
       "#T_a9bed_row4_col1 {\n",
       "  background-color: #d6d6e9;\n",
       "  color: #000000;\n",
       "}\n",
       "#T_a9bed_row4_col2 {\n",
       "  background-color: #f8f1f8;\n",
       "  color: #000000;\n",
       "}\n",
       "#T_a9bed_row4_col3 {\n",
       "  background-color: #f7f0f7;\n",
       "  color: #000000;\n",
       "}\n",
       "#T_a9bed_row4_col5 {\n",
       "  background-color: #4496c3;\n",
       "  color: #f1f1f1;\n",
       "}\n",
       "#T_a9bed_row5_col0 {\n",
       "  background-color: #8bb2d4;\n",
       "  color: #000000;\n",
       "}\n",
       "#T_a9bed_row5_col1 {\n",
       "  background-color: #dedcec;\n",
       "  color: #000000;\n",
       "}\n",
       "#T_a9bed_row5_col2 {\n",
       "  background-color: #f2ecf5;\n",
       "  color: #000000;\n",
       "}\n",
       "#T_a9bed_row5_col4 {\n",
       "  background-color: #509ac6;\n",
       "  color: #f1f1f1;\n",
       "}\n",
       "</style>\n",
       "<table id=\"T_a9bed\">\n",
       "  <thead>\n",
       "    <tr>\n",
       "      <th class=\"blank level0\" >&nbsp;</th>\n",
       "      <th id=\"T_a9bed_level0_col0\" class=\"col_heading level0 col0\" >age</th>\n",
       "      <th id=\"T_a9bed_level0_col1\" class=\"col_heading level0 col1\" >trestbps</th>\n",
       "      <th id=\"T_a9bed_level0_col2\" class=\"col_heading level0 col2\" >chol</th>\n",
       "      <th id=\"T_a9bed_level0_col3\" class=\"col_heading level0 col3\" >thalach</th>\n",
       "      <th id=\"T_a9bed_level0_col4\" class=\"col_heading level0 col4\" >oldpeak</th>\n",
       "      <th id=\"T_a9bed_level0_col5\" class=\"col_heading level0 col5\" >target</th>\n",
       "    </tr>\n",
       "  </thead>\n",
       "  <tbody>\n",
       "    <tr>\n",
       "      <th id=\"T_a9bed_level0_row0\" class=\"row_heading level0 row0\" >age</th>\n",
       "      <td id=\"T_a9bed_row0_col0\" class=\"data row0 col0\" >1.000000</td>\n",
       "      <td id=\"T_a9bed_row0_col1\" class=\"data row0 col1\" >0.284946</td>\n",
       "      <td id=\"T_a9bed_row0_col2\" class=\"data row0 col2\" >0.208950</td>\n",
       "      <td id=\"T_a9bed_row0_col3\" class=\"data row0 col3\" >-0.393806</td>\n",
       "      <td id=\"T_a9bed_row0_col4\" class=\"data row0 col4\" >0.203805</td>\n",
       "      <td id=\"T_a9bed_row0_col5\" class=\"data row0 col5\" >0.223120</td>\n",
       "    </tr>\n",
       "    <tr>\n",
       "      <th id=\"T_a9bed_level0_row1\" class=\"row_heading level0 row1\" >trestbps</th>\n",
       "      <td id=\"T_a9bed_row1_col0\" class=\"data row1 col0\" >0.284946</td>\n",
       "      <td id=\"T_a9bed_row1_col1\" class=\"data row1 col1\" >1.000000</td>\n",
       "      <td id=\"T_a9bed_row1_col2\" class=\"data row1 col2\" >0.130120</td>\n",
       "      <td id=\"T_a9bed_row1_col3\" class=\"data row1 col3\" >-0.045351</td>\n",
       "      <td id=\"T_a9bed_row1_col4\" class=\"data row1 col4\" >0.189171</td>\n",
       "      <td id=\"T_a9bed_row1_col5\" class=\"data row1 col5\" >0.150825</td>\n",
       "    </tr>\n",
       "    <tr>\n",
       "      <th id=\"T_a9bed_level0_row2\" class=\"row_heading level0 row2\" >chol</th>\n",
       "      <td id=\"T_a9bed_row2_col0\" class=\"data row2 col0\" >0.208950</td>\n",
       "      <td id=\"T_a9bed_row2_col1\" class=\"data row2 col1\" >0.130120</td>\n",
       "      <td id=\"T_a9bed_row2_col2\" class=\"data row2 col2\" >1.000000</td>\n",
       "      <td id=\"T_a9bed_row2_col3\" class=\"data row2 col3\" >-0.003432</td>\n",
       "      <td id=\"T_a9bed_row2_col4\" class=\"data row2 col4\" >0.046564</td>\n",
       "      <td id=\"T_a9bed_row2_col5\" class=\"data row2 col5\" >0.085164</td>\n",
       "    </tr>\n",
       "    <tr>\n",
       "      <th id=\"T_a9bed_level0_row3\" class=\"row_heading level0 row3\" >thalach</th>\n",
       "      <td id=\"T_a9bed_row3_col0\" class=\"data row3 col0\" >-0.393806</td>\n",
       "      <td id=\"T_a9bed_row3_col1\" class=\"data row3 col1\" >-0.045351</td>\n",
       "      <td id=\"T_a9bed_row3_col2\" class=\"data row3 col2\" >-0.003432</td>\n",
       "      <td id=\"T_a9bed_row3_col3\" class=\"data row3 col3\" >1.000000</td>\n",
       "      <td id=\"T_a9bed_row3_col4\" class=\"data row3 col4\" >-0.343085</td>\n",
       "      <td id=\"T_a9bed_row3_col5\" class=\"data row3 col5\" >-0.417167</td>\n",
       "    </tr>\n",
       "    <tr>\n",
       "      <th id=\"T_a9bed_level0_row4\" class=\"row_heading level0 row4\" >oldpeak</th>\n",
       "      <td id=\"T_a9bed_row4_col0\" class=\"data row4 col0\" >0.203805</td>\n",
       "      <td id=\"T_a9bed_row4_col1\" class=\"data row4 col1\" >0.189171</td>\n",
       "      <td id=\"T_a9bed_row4_col2\" class=\"data row4 col2\" >0.046564</td>\n",
       "      <td id=\"T_a9bed_row4_col3\" class=\"data row4 col3\" >-0.343085</td>\n",
       "      <td id=\"T_a9bed_row4_col4\" class=\"data row4 col4\" >1.000000</td>\n",
       "      <td id=\"T_a9bed_row4_col5\" class=\"data row4 col5\" >0.424510</td>\n",
       "    </tr>\n",
       "    <tr>\n",
       "      <th id=\"T_a9bed_level0_row5\" class=\"row_heading level0 row5\" >target</th>\n",
       "      <td id=\"T_a9bed_row5_col0\" class=\"data row5 col0\" >0.223120</td>\n",
       "      <td id=\"T_a9bed_row5_col1\" class=\"data row5 col1\" >0.150825</td>\n",
       "      <td id=\"T_a9bed_row5_col2\" class=\"data row5 col2\" >0.085164</td>\n",
       "      <td id=\"T_a9bed_row5_col3\" class=\"data row5 col3\" >-0.417167</td>\n",
       "      <td id=\"T_a9bed_row5_col4\" class=\"data row5 col4\" >0.424510</td>\n",
       "      <td id=\"T_a9bed_row5_col5\" class=\"data row5 col5\" >1.000000</td>\n",
       "    </tr>\n",
       "  </tbody>\n",
       "</table>\n"
      ],
      "text/plain": [
       "<pandas.io.formats.style.Styler at 0x1c92e35bee0>"
      ]
     },
     "execution_count": 5,
     "metadata": {},
     "output_type": "execute_result"
    }
   ],
   "source": [
    "data[[\"age\",\"trestbps\",\"chol\",\"thalach\",\"oldpeak\",\"target\"]].corr().style.background_gradient()"
   ]
  },
  {
   "cell_type": "markdown",
   "id": "4b0ea72c-3f67-4500-a78b-51494b269d38",
   "metadata": {},
   "source": [
    "Then, we plot the numeric variables below. The other variables are all categorical variables."
   ]
  },
  {
   "cell_type": "code",
   "execution_count": 6,
   "id": "00567ce9-fe88-4266-9198-31860ee98950",
   "metadata": {},
   "outputs": [
    {
     "data": {
      "application/vnd.vegalite.v4+json": {
       "$schema": "https://vega.github.io/schema/vega-lite/v4.17.0.json",
       "config": {
        "view": {
         "continuousHeight": 300,
         "continuousWidth": 400
        }
       },
       "data": {
        "url": "http://localhost:52781/303e66614a59fa9e1b0b20d2c56e2985.json"
       },
       "vconcat": [
        {
         "hconcat": [
          {
           "encoding": {
            "color": {
             "field": "target",
             "type": "nominal"
            },
            "x": {
             "field": "age",
             "type": "quantitative"
            },
            "y": {
             "aggregate": "count",
             "type": "quantitative"
            }
           },
           "height": 200,
           "mark": "bar",
           "width": 300
          },
          {
           "encoding": {
            "color": {
             "field": "target",
             "type": "nominal"
            },
            "x": {
             "field": "trestbps",
             "type": "quantitative"
            },
            "y": {
             "aggregate": "count",
             "type": "quantitative"
            }
           },
           "height": 200,
           "mark": "bar",
           "width": 300
          },
          {
           "encoding": {
            "color": {
             "field": "target",
             "type": "nominal"
            },
            "x": {
             "field": "chol",
             "type": "quantitative"
            },
            "y": {
             "aggregate": "count",
             "type": "quantitative"
            }
           },
           "height": 200,
           "mark": "bar",
           "width": 300
          }
         ]
        },
        {
         "concat": [
          {
           "encoding": {
            "color": {
             "field": "target",
             "type": "nominal"
            },
            "x": {
             "bin": {
              "maxbins": 20
             },
             "field": "thalach",
             "type": "quantitative"
            },
            "y": {
             "aggregate": "count",
             "type": "quantitative"
            }
           },
           "height": 200,
           "mark": "bar",
           "width": 300
          },
          {
           "encoding": {
            "color": {
             "field": "target",
             "type": "nominal"
            },
            "x": {
             "bin": {
              "maxbins": 20
             },
             "field": "oldpeak",
             "type": "quantitative"
            },
            "y": {
             "aggregate": "count",
             "type": "quantitative"
            }
           },
           "height": 200,
           "mark": "bar",
           "width": 300
          }
         ]
        }
       ]
      },
      "image/png": "[encoded data removed]",
      "text/plain": [
       "<VegaLite 4 object>\n",
       "\n",
       "If you see this message, it means the renderer has not been properly enabled\n",
       "for the frontend that you are using. For more information, see\n",
       "https://altair-viz.github.io/user_guide/troubleshooting.html\n"
      ]
     },
     "execution_count": 6,
     "metadata": {},
     "output_type": "execute_result"
    }
   ],
   "source": [
    "features1 = [\n",
    "    \"age\",\"trestbps\",\"chol\"\n",
    "]\n",
    "features2 = [\n",
    "    \"thalach\",\"oldpeak\"\n",
    "]\n",
    "charts1=[]\n",
    "charts2=[]\n",
    "for feat in features1:\n",
    "    charts1.append(alt.Chart(data).mark_bar().encode(\n",
    "       x=feat,\n",
    "       y='count()',\n",
    "       color='target:N').properties(\n",
    "    width=300,\n",
    "    height=200\n",
    "))\n",
    "for feat in features2:\n",
    "    charts2.append(alt.Chart(data).mark_bar().encode(\n",
    "       alt.X(feat, bin=alt.Bin(maxbins=20)),\n",
    "       y='count()',\n",
    "       color='target:N').properties(\n",
    "    width=300,\n",
    "    height=200\n",
    "))\n",
    "alt.hconcat(*charts1) & alt.concat(*charts2)"
   ]
  },
  {
   "cell_type": "markdown",
   "id": "07fe6a31-d0aa-4ef5-a9f5-fb21f0fb1d6b",
   "metadata": {},
   "source": [
    "For the simplicity of reading, we only show the categorical variables that is highly related to the probability below."
   ]
  },
  {
   "cell_type": "code",
   "execution_count": 7,
   "id": "83d637b4-9760-4b69-a653-05b691d25c4d",
   "metadata": {},
   "outputs": [
    {
     "data": {
      "image/png": "[encoded data removed]",
      "text/plain": [
       "<Figure size 270x127 with 1 Axes>"
      ]
     },
     "metadata": {},
     "output_type": "display_data"
    },
    {
     "data": {
      "image/png": "[encoded data removed]",
      "text/plain": [
       "<Figure size 270x127 with 1 Axes>"
      ]
     },
     "metadata": {},
     "output_type": "display_data"
    },
    {
     "data": {
      "image/png": "[encoded data removed]",
      "text/plain": [
       "<Figure size 270x127 with 1 Axes>"
      ]
     },
     "metadata": {},
     "output_type": "display_data"
    },
    {
     "data": {
      "image/png": "[encoded data removed]",
      "text/plain": [
       "<Figure size 270x127 with 1 Axes>"
      ]
     },
     "metadata": {},
     "output_type": "display_data"
    },
    {
     "data": {
      "image/png": "[encoded data removed]",
      "text/plain": [
       "<Figure size 270x127 with 1 Axes>"
      ]
     },
     "metadata": {},
     "output_type": "display_data"
    }
   ],
   "source": [
    "import seaborn as sns\n",
    "sns.set(rc={'figure.figsize':(2.7,1.27)})\n",
    "categorical_features = [\"cp\",\"exang\",\"slope\",\"ca\",\"thal\"]\n",
    "for categorical_feature in categorical_features:\n",
    "    sns.countplot(x =categorical_feature, hue = \"target\", data = data)\n",
    "    plt.show()"
   ]
  },
  {
   "cell_type": "markdown",
   "id": "67f4e9e3-5d80-43ee-850f-6afc5ed0a8ad",
   "metadata": {},
   "source": [
    "## Results\n",
    "From the plot above, the higher the maximum heart rate achieved or the ST depression, the greater the probability of heart attack. We can then take a hypothesis test to prove our conclusion. If more information are required in our hypothesis test, we can use the categorical variables above.  "
   ]
  },
  {
   "cell_type": "markdown",
   "id": "398a143a-a444-4ae5-b96c-399975892397",
   "metadata": {},
   "source": [
    "## Reference  \n",
    "1. Andras Janosi,William Steinbrunn,Matthias Pfisterer,Robert Detrano.UCI Machine Learning Repository Heart Disease Data Set.  \n",
    " https://archive.ics.uci.edu/ml/datasets/Heart+Disease\n",
    "2. Center for Disease Control and Prevention.2021.Health Topics – Heart Disease and Heart Attack.  \n",
    " https://www.cdc.gov/policy/polaris/healthtopics/heartdisease/index.html    \n",
    "3. Center for Disease Control and Prevention.2021.Heart Attack Symptoms, Risk, and Recovery. \n",
    " https://www.cdc.gov/heartdisease/heart_attack.html    \n",
    "4. de Jonge, Edwin. 2018. Docopt: Command-Line Interface Specification Language. https://CRAN.R-project.org/package=docopt."
   ]
  },
  {
   "cell_type": "code",
   "execution_count": null,
   "id": "e61abef1-64bc-4818-aa45-7765ad09aac2",
   "metadata": {},
   "outputs": [],
   "source": []
  }
 ],
 "metadata": {
  "kernelspec": {
   "display_name": "Python 3 (ipykernel)",
   "language": "python",
   "name": "python3"
  },
  "language_info": {
   "codemirror_mode": {
    "name": "ipython",
    "version": 3
   },
   "file_extension": ".py",
   "mimetype": "text/x-python",
   "name": "python",
   "nbconvert_exporter": "python",
   "pygments_lexer": "ipython3",
   "version": "3.10.6"
  }
 },
 "nbformat": 4,
 "nbformat_minor": 5
}
